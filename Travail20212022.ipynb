{
 "cells": [
  {
   "cell_type": "markdown",
   "metadata": {},
   "source": [
    "# Travail Personnel d'analyse numérique MATH-F3414(1), année académique 2021-2022\n",
    "\n",
    "## Nom / Prénom :"
   ]
  },
  {
   "cell_type": "markdown",
   "metadata": {},
   "source": [
    "*Remarque: en soumettant ce travail, vous vous engagez à le faire de manière individuelle. Tout plagiat sera sanctionné selon le réglement en vigueur à l'Université Libre de Bruxelles.*\n",
    "\n",
    "*La date limite de remise de ce travail est le 23/12/2021 à 23h59:59s. Après cette date, il ne sera pas comptabilisé.*"
   ]
  },
  {
   "cell_type": "markdown",
   "metadata": {},
   "source": [
    "# Devoir\n",
    "\n",
    "## Introduction\n",
    "\n",
    "Soit l'écoulement parallèle d'un fluide visqueux entre deux cylindres.\n",
    "\n",
    "<img src=\"./CouetteTaylor.png\" width=200>\n",
    "\n",
    "La seule composante non-nulle de la vitesse est dirigée dans la direction azimuthale et en coordonnées cylindriques $r, \\theta, z$ on a:\n",
    "\n",
    "\\begin{align}\n",
    "\\mathbf{u}(r,t) = u(r,t) \\mathbf{e}_{\\theta}\n",
    "\\end{align}\n",
    "\n",
    "Sous ces conditions on peut montrer que l'équation d'évolution de la vitesse azimuthale est:\n",
    "\n",
    "\\begin{align}\n",
    "\\frac{\\partial u}{\\partial t} = \\nu (\\frac{\\partial^2}{\\partial r^2} + \\frac1r \\frac{\\partial}{\\partial r}-\\frac{1}{r^2})u\n",
    "\\end{align}\n",
    "\n",
    "où $\\nu$ est la viscosité du fluide.\n",
    "\n",
    "Quand $t \\to \\infty$, <a name=\"taylorcouette\">la solution stationnaire</a> est connue sous le nom d'écoulement de Taylor-Couette et est donnée par\n",
    "\n",
    "\\begin{equation}\n",
    "u = Ar + \\frac{B}{r},\n",
    "\\end{equation}\n",
    "\n",
    "où\n",
    "\n",
    "\\begin{equation}\n",
    "A = \\frac{\\Omega_2 R_2^2 - \\Omega_1 R_1^2}{R_2^2 - R_1^2}, \\quad B = \\frac{\\left(\\Omega_2 - \\Omega_1\\right) R_1^2 R_2^2}{R_2^2 - R_1^2}.\n",
    "\\end{equation}\n",
    "\n",
    "Ici $\\Omega_1$, $\\Omega_2$, $R_1$ et $R_2$ sont les vitesses angulaires et les rayons des cylindres intérieurs et extérieurs, respectivement.\n",
    "\n",
    "Les paramêtres du système considéré sont:\n",
    "\n",
    "$\\Omega_1 = 2 s^{-1},\\ \\Omega_2 = 3 s^{-1}, \\, R_1=2m,\\ R_2=4m,\\, \\nu = 8 m^2 / s.$\n",
    "\n",
    "On discrétise l'équation d'évolution sur une grille uniforme consistutée de $n_r$ points dont les coordonnées sont:\n",
    "\n",
    "\\begin{align}\n",
    "r_i = R_1 + \\frac{R_2 - R_1}{n_r-1}i,\\ i=0,..., n_r-1. \n",
    "\\end{align}\n",
    "\n",
    "On choisit $n_r = 101$."
   ]
  },
  {
   "cell_type": "markdown",
   "metadata": {},
   "source": [
    "## Question 1\n",
    "\n",
    "Ecrire une fonction Python qui permet de calculer la matrice $M$ de semi-discrétisation de l'équation d'évolution et qui tient compte des conditions aux bords pour $t\\geq0$. Les dérivées spatiales doivent être discrétisées par différences finies du second ordre.\n",
    "\n",
    "Cette fonction doit uniquement avoir comme paramêtres d'entrée les coordonnées des points de la grille et la viscosité du fluide."
   ]
  },
  {
   "cell_type": "markdown",
   "metadata": {},
   "source": [
    "## Question 2\n",
    "\n",
    "La matrice $M$ est-elle diagonalisable? Quelles sont ses valeurs propres ?\n",
    "\n",
    "Pour répondre à cette question vous devez utiliser une fonction de la librairie numpy qui permet de calculer les valeurs propres, i. e. [`numpy.linalg.eig`](https://numpy.org/doc/stable/reference/generated/numpy.linalg.eig.html)."
   ]
  },
  {
   "cell_type": "markdown",
   "metadata": {},
   "source": [
    "## Question 3\n",
    "\n",
    "En vous servant de votre réponse à la question 2, déterminer le pas de temps $dt$ maximum pour lequel la méthode d'intégration dans le temps Euler forward est stable (voir [9.2. Stability: matrix analysis](https://aquaulb.github.io/book_solving_pde_mooc/solving_pde_mooc/notebooks/04_PartialDifferentialEquations/04_02_StabilityAnalysis.html#stability-matrix-analysis)).\n",
    "\n",
    "Comparez cette valeur à celle nécessaire pour l'intégration de l'équation de la chaleur."
   ]
  },
  {
   "cell_type": "markdown",
   "metadata": {},
   "source": [
    "## Question 4\n",
    "\n",
    "Résolvez l'équation d'évolution entre $t=0s$ et $t=0.4s$ par la méthode d'intégration dans le temps Euler forward avec un pas de temps $dt=2\\cdot 10^{-5}s$. Créer une animation qui représente la valeur de $u$ au cours de temps. Que vaut $u(3.5, 0.05)$ ?"
   ]
  },
  {
   "cell_type": "markdown",
   "metadata": {},
   "source": [
    "## Question 5\n",
    "\n",
    "Résoudre le même problème que ci-dessus avec la méthode d'intégration implicite de Crank-Nicholson. Que vaut  u(3.5,0.05)?"
   ]
  },
  {
   "cell_type": "markdown",
   "metadata": {},
   "source": [
    "## Question 6\n",
    "\n",
    "Pour $t\\rightarrow \\infty$, la solution tend vers [une solution stationnaire](#taylorcouette) qui satisfait à l'équation:\n",
    "\n",
    "\\begin{align}\n",
    "(\\frac{d^2}{d r^2} + \\frac1r \\frac{d}{d r}-\\frac{1}{r^2})u = 0.\n",
    "\\end{align}\n",
    "\n",
    "Résoudre cette équation avec la méthode de Gauss-Seidel. Valider votre solution avec [la solution exacte](#taylorcouette). Comparez votre solution à celle obtenue pour la question 4 et commentez la différence.\n",
    "\n",
    "On adopte pour cette question le critère de convergence,\n",
    "\n",
    "\\begin{align}\n",
    "\\vert u^{n+1}(r_i) - u^{n}(r_i) \\vert < 1\\cdot 10^{-8},\\ \\forall r_i\n",
    "\\end{align}\n",
    "\n",
    "où $u^{n}$ et $u^{n+1}$ sont deux itérations successives de la solution."
   ]
  }
 ],
 "metadata": {
  "interpreter": {
   "hash": "de7c8584ae51fbb089eecc0d6f203cc3cae3114d5c45556091d2c5b63465aa84"
  },
  "jupytext": {
   "formats": "ipynb,md:myst"
  },
  "kernelspec": {
   "display_name": "Python 3 (ipykernel)",
   "language": "python",
   "name": "python3"
  },
  "language_info": {
   "codemirror_mode": {
    "name": "ipython",
    "version": 3
   },
   "file_extension": ".py",
   "mimetype": "text/x-python",
   "name": "python",
   "nbconvert_exporter": "python",
   "pygments_lexer": "ipython3",
   "version": "3.9.7"
  },
  "latex_envs": {
   "LaTeX_envs_menu_present": true,
   "autoclose": false,
   "autocomplete": true,
   "bibliofile": "biblio.bib",
   "cite_by": "apalike",
   "current_citInitial": 1,
   "eqLabelWithNumbers": true,
   "eqNumInitial": 1,
   "hotkeys": {
    "equation": "Ctrl-E",
    "itemize": "Ctrl-I"
   },
   "labels_anchors": false,
   "latex_user_defs": false,
   "report_style_numbering": false,
   "user_envs_cfg": false
  },
  "toc": {
   "base_numbering": 1,
   "nav_menu": {},
   "number_sections": false,
   "sideBar": true,
   "skip_h1_title": false,
   "title_cell": "Table of Contents",
   "title_sidebar": "Contents",
   "toc_cell": false,
   "toc_position": {
    "height": "calc(100% - 180px)",
    "left": "10px",
    "top": "150px",
    "width": "165px"
   },
   "toc_section_display": true,
   "toc_window_display": false
  }
 },
 "nbformat": 4,
 "nbformat_minor": 2
}
